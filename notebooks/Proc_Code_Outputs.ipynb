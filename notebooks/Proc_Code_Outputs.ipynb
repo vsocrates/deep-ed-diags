{
 "cells": [
  {
   "cell_type": "markdown",
   "metadata": {},
   "source": [
    "# Imports"
   ]
  },
  {
   "cell_type": "code",
   "execution_count": 1,
   "metadata": {},
   "outputs": [],
   "source": [
    "%load_ext autoreload\n",
    "%autoreload 2"
   ]
  },
  {
   "cell_type": "code",
   "execution_count": 2,
   "metadata": {},
   "outputs": [],
   "source": [
    "# Path hack.\n",
    "import sys\n",
    "import os\n",
    "\n",
    "sys.path.append(os.path.abspath(\"..\"))"
   ]
  },
  {
   "cell_type": "code",
   "execution_count": 3,
   "metadata": {},
   "outputs": [],
   "source": [
    "import csv\n",
    "import ast\n",
    "from datetime import date, datetime, time, timedelta\n",
    "from datetime import datetime\n",
    "import pickle as pkl\n",
    "import time\n",
    "from sklearn.preprocessing import MinMaxScaler\n",
    "from sklearn.preprocessing import StandardScaler\n",
    "\n",
    "import numpy as np\n",
    "import pandas as pd\n",
    "import sklearn\n",
    "from joblib import dump, load\n",
    "\n",
    "import matplotlib.pyplot as plt\n",
    "\n",
    "import torch\n",
    "from torch.utils.data import Dataset, DataLoader\n",
    "from torch.utils.data import Dataset, DataLoader\n",
    "from torchvision import transforms, utils\n",
    "\n",
    "from models.simple_nn import *\n",
    "from utils.simple_nn_utils import *\n",
    "from utils.general_utils import *\n",
    "from utils.data_loader import *"
   ]
  },
  {
   "cell_type": "markdown",
   "metadata": {},
   "source": [
    "# Read in Data"
   ]
  },
  {
   "cell_type": "code",
   "execution_count": 4,
   "metadata": {},
   "outputs": [],
   "source": [
    "data = pd.read_pickle(\n",
    "    f\"/gpfs/milgram/project/rtaylor/shared/ABDPain_EarlyDiags/unq_pt_enc_clean_multilabel_nomismatches.pkl\"\n",
    ")"
   ]
  },
  {
   "cell_type": "markdown",
   "metadata": {},
   "source": [
    "# Read Proc Codes In"
   ]
  },
  {
   "cell_type": "markdown",
   "metadata": {},
   "source": [
    "## Investigate data file"
   ]
  },
  {
   "cell_type": "code",
   "execution_count": 83,
   "metadata": {},
   "outputs": [],
   "source": [
    "proc_outcomes = pd.read_csv(\"/home/vs428/project/Data/procedure_outcome.csv\")"
   ]
  },
  {
   "cell_type": "code",
   "execution_count": 84,
   "metadata": {},
   "outputs": [
    {
     "data": {
      "text/plain": [
       "PAT_ENC_CSN_ID\n",
       "234381633    7\n",
       "146490372    7\n",
       "253648708    6\n",
       "100595317    6\n",
       "116748038    6\n",
       "            ..\n",
       "154280223    1\n",
       "154279999    1\n",
       "154279520    1\n",
       "154279141    1\n",
       "274287190    1\n",
       "Length: 364830, dtype: int64"
      ]
     },
     "execution_count": 84,
     "metadata": {},
     "output_type": "execute_result"
    }
   ],
   "source": [
    "proc_outcomes.groupby(\"PAT_ENC_CSN_ID\").size().sort_values(ascending=False)"
   ]
  },
  {
   "cell_type": "code",
   "execution_count": 85,
   "metadata": {},
   "outputs": [
    {
     "data": {
      "text/html": [
       "<div>\n",
       "<style scoped>\n",
       "    .dataframe tbody tr th:only-of-type {\n",
       "        vertical-align: middle;\n",
       "    }\n",
       "\n",
       "    .dataframe tbody tr th {\n",
       "        vertical-align: top;\n",
       "    }\n",
       "\n",
       "    .dataframe thead th {\n",
       "        text-align: right;\n",
       "    }\n",
       "</style>\n",
       "<table border=\"1\" class=\"dataframe\">\n",
       "  <thead>\n",
       "    <tr style=\"text-align: right;\">\n",
       "      <th></th>\n",
       "      <th>PAT_ENC_CSN_ID</th>\n",
       "      <th>person_id</th>\n",
       "      <th>visit_occurrence_id</th>\n",
       "      <th>age</th>\n",
       "      <th>EdDisposition_AMA</th>\n",
       "      <th>EdDisposition_Admit</th>\n",
       "      <th>EdDisposition_Discharge</th>\n",
       "      <th>EdDisposition_Eloped</th>\n",
       "      <th>EdDisposition_Expired</th>\n",
       "      <th>EdDisposition_LWBS after Triage</th>\n",
       "      <th>...</th>\n",
       "      <th>last_BP_Diastolic</th>\n",
       "      <th>ed_SpO2</th>\n",
       "      <th>ed_Temp</th>\n",
       "      <th>ed_Patient Acuity</th>\n",
       "      <th>ed_Pulse</th>\n",
       "      <th>ed_Pain Score</th>\n",
       "      <th>ed_Resp</th>\n",
       "      <th>ed_BP_Systolic</th>\n",
       "      <th>ed_BP_Diastolic</th>\n",
       "      <th>multilabel</th>\n",
       "    </tr>\n",
       "  </thead>\n",
       "  <tbody>\n",
       "    <tr>\n",
       "      <th>148127</th>\n",
       "      <td>234381633</td>\n",
       "      <td>7366201</td>\n",
       "      <td>220910288</td>\n",
       "      <td>13.0</td>\n",
       "      <td>NaN</td>\n",
       "      <td>1.0</td>\n",
       "      <td>1.0</td>\n",
       "      <td>NaN</td>\n",
       "      <td>NaN</td>\n",
       "      <td>NaN</td>\n",
       "      <td>...</td>\n",
       "      <td>62.0</td>\n",
       "      <td>98.0</td>\n",
       "      <td>98.8</td>\n",
       "      <td>3.0</td>\n",
       "      <td>64.0</td>\n",
       "      <td>7.0</td>\n",
       "      <td>16.0</td>\n",
       "      <td>103.0</td>\n",
       "      <td>54.0</td>\n",
       "      <td>[Hepatitis]</td>\n",
       "    </tr>\n",
       "  </tbody>\n",
       "</table>\n",
       "<p>1 rows × 4097 columns</p>\n",
       "</div>"
      ],
      "text/plain": [
       "        PAT_ENC_CSN_ID  person_id  visit_occurrence_id   age  \\\n",
       "148127       234381633    7366201            220910288  13.0   \n",
       "\n",
       "        EdDisposition_AMA  EdDisposition_Admit  EdDisposition_Discharge  \\\n",
       "148127                NaN                  1.0                      1.0   \n",
       "\n",
       "        EdDisposition_Eloped  EdDisposition_Expired  \\\n",
       "148127                   NaN                    NaN   \n",
       "\n",
       "        EdDisposition_LWBS after Triage  ...  last_BP_Diastolic  ed_SpO2  \\\n",
       "148127                              NaN  ...               62.0     98.0   \n",
       "\n",
       "        ed_Temp  ed_Patient Acuity  ed_Pulse  ed_Pain Score  ed_Resp  \\\n",
       "148127     98.8                3.0      64.0            7.0     16.0   \n",
       "\n",
       "        ed_BP_Systolic  ed_BP_Diastolic   multilabel  \n",
       "148127           103.0             54.0  [Hepatitis]  \n",
       "\n",
       "[1 rows x 4097 columns]"
      ]
     },
     "metadata": {},
     "output_type": "display_data"
    },
    {
     "data": {
      "text/html": [
       "<div>\n",
       "<style scoped>\n",
       "    .dataframe tbody tr th:only-of-type {\n",
       "        vertical-align: middle;\n",
       "    }\n",
       "\n",
       "    .dataframe tbody tr th {\n",
       "        vertical-align: top;\n",
       "    }\n",
       "\n",
       "    .dataframe thead th {\n",
       "        text-align: right;\n",
       "    }\n",
       "</style>\n",
       "<table border=\"1\" class=\"dataframe\">\n",
       "  <thead>\n",
       "    <tr style=\"text-align: right;\">\n",
       "      <th></th>\n",
       "      <th>PAT_ENC_CSN_ID</th>\n",
       "      <th>Code</th>\n",
       "      <th>DISP_NAME</th>\n",
       "    </tr>\n",
       "  </thead>\n",
       "  <tbody>\n",
       "    <tr>\n",
       "      <th>18933</th>\n",
       "      <td>234381633</td>\n",
       "      <td>IMG3479</td>\n",
       "      <td>US NON-OB PELVIS COMPLETE WITH LIMITED DOPPLER</td>\n",
       "    </tr>\n",
       "    <tr>\n",
       "      <th>145389</th>\n",
       "      <td>234381633</td>\n",
       "      <td>IMG524</td>\n",
       "      <td>US ABDOMEN COMPLETE</td>\n",
       "    </tr>\n",
       "    <tr>\n",
       "      <th>163709</th>\n",
       "      <td>234381633</td>\n",
       "      <td>IMG1219</td>\n",
       "      <td>US DUPLEX ABDOMEN PELVIS VASCULAR STUDY COMPLE...</td>\n",
       "    </tr>\n",
       "    <tr>\n",
       "      <th>170514</th>\n",
       "      <td>234381633</td>\n",
       "      <td>IMG794</td>\n",
       "      <td>CT ABDOMEN PELVIS W IV CONTRAST</td>\n",
       "    </tr>\n",
       "    <tr>\n",
       "      <th>242074</th>\n",
       "      <td>234381633</td>\n",
       "      <td>IMG2320</td>\n",
       "      <td>US ABDOMEN LIMITED</td>\n",
       "    </tr>\n",
       "    <tr>\n",
       "      <th>296910</th>\n",
       "      <td>234381633</td>\n",
       "      <td>IMG1220</td>\n",
       "      <td>US DUPLEX ABDOMEN PELVIS STUDY LIMITED (BH YH ...</td>\n",
       "    </tr>\n",
       "    <tr>\n",
       "      <th>433312</th>\n",
       "      <td>234381633</td>\n",
       "      <td>IMG550</td>\n",
       "      <td>US PELVIS LIMITED</td>\n",
       "    </tr>\n",
       "  </tbody>\n",
       "</table>\n",
       "</div>"
      ],
      "text/plain": [
       "        PAT_ENC_CSN_ID     Code  \\\n",
       "18933        234381633  IMG3479   \n",
       "145389       234381633   IMG524   \n",
       "163709       234381633  IMG1219   \n",
       "170514       234381633   IMG794   \n",
       "242074       234381633  IMG2320   \n",
       "296910       234381633  IMG1220   \n",
       "433312       234381633   IMG550   \n",
       "\n",
       "                                                DISP_NAME  \n",
       "18933      US NON-OB PELVIS COMPLETE WITH LIMITED DOPPLER  \n",
       "145389                                US ABDOMEN COMPLETE  \n",
       "163709  US DUPLEX ABDOMEN PELVIS VASCULAR STUDY COMPLE...  \n",
       "170514                    CT ABDOMEN PELVIS W IV CONTRAST  \n",
       "242074                                 US ABDOMEN LIMITED  \n",
       "296910  US DUPLEX ABDOMEN PELVIS STUDY LIMITED (BH YH ...  \n",
       "433312                                  US PELVIS LIMITED  "
      ]
     },
     "metadata": {},
     "output_type": "display_data"
    }
   ],
   "source": [
    "PAT_ENC_CSN_ID = 234381633\n",
    "display(data[data[\"PAT_ENC_CSN_ID\"] == PAT_ENC_CSN_ID])\n",
    "display(proc_outcomes[proc_outcomes[\"PAT_ENC_CSN_ID\"] == PAT_ENC_CSN_ID])"
   ]
  },
  {
   "cell_type": "markdown",
   "metadata": {},
   "source": [
    "## Create Label column"
   ]
  },
  {
   "cell_type": "code",
   "execution_count": 86,
   "metadata": {},
   "outputs": [],
   "source": [
    "proc_outcomes[\"Test_Category\"] = proc_outcomes[\"DISP_NAME\"].str[:2]"
   ]
  },
  {
   "cell_type": "code",
   "execution_count": 87,
   "metadata": {},
   "outputs": [
    {
     "data": {
      "text/plain": [
       "CT    307520\n",
       "US    153217\n",
       "Name: Test_Category, dtype: int64"
      ]
     },
     "execution_count": 87,
     "metadata": {},
     "output_type": "execute_result"
    }
   ],
   "source": [
    "proc_outcomes[\"Test_Category\"].value_counts()"
   ]
  },
  {
   "cell_type": "code",
   "execution_count": 88,
   "metadata": {},
   "outputs": [
    {
     "data": {
      "text/plain": [
       "Index(['PAT_ENC_CSN_ID', 'Code', 'DISP_NAME', 'Test_Category'], dtype='object')"
      ]
     },
     "execution_count": 88,
     "metadata": {},
     "output_type": "execute_result"
    }
   ],
   "source": [
    "proc_outcomes.columns"
   ]
  },
  {
   "cell_type": "code",
   "execution_count": 89,
   "metadata": {},
   "outputs": [],
   "source": [
    "labeled_proc_outcomes = proc_outcomes.groupby(\"PAT_ENC_CSN_ID\").apply(\n",
    "    lambda x: \"both\"\n",
    "    if ((\"CT\" in x[\"Test_Category\"].values) and (\"US\" in x[\"Test_Category\"].values))\n",
    "    else x[\"Test_Category\"].unique()[0]\n",
    ")"
   ]
  },
  {
   "cell_type": "code",
   "execution_count": 90,
   "metadata": {},
   "outputs": [],
   "source": [
    "# 460737\n",
    "proc_outcomes = proc_outcomes.merge(labeled_proc_outcomes.reset_index())\n",
    "proc_outcomes = proc_outcomes.rename({0: \"proc_label\"}, axis=1)"
   ]
  },
  {
   "cell_type": "code",
   "execution_count": 98,
   "metadata": {},
   "outputs": [
    {
     "data": {
      "text/plain": [
       "proc_label    0\n",
       "dtype: int64"
      ]
     },
     "execution_count": 98,
     "metadata": {},
     "output_type": "execute_result"
    }
   ],
   "source": [
    "# make sure that there is only one label per PAT_ENC_CSN_ID, despite multiple rows\n",
    "assert (\n",
    "    proc_outcomes.groupby(\"PAT_ENC_CSN_ID\").agg({\"proc_label\": \"nunique\"}) > 1\n",
    ").sum() == 0"
   ]
  },
  {
   "cell_type": "code",
   "execution_count": 99,
   "metadata": {},
   "outputs": [],
   "source": [
    "merged = data.merge(\n",
    "    proc_outcomes.groupby(\"PAT_ENC_CSN_ID\").first(),\n",
    "    on=\"PAT_ENC_CSN_ID\",\n",
    "    how=\"left\",\n",
    ")"
   ]
  },
  {
   "cell_type": "code",
   "execution_count": 105,
   "metadata": {},
   "outputs": [],
   "source": [
    "merged[\"proc_label\"] = merged[\"proc_label\"].fillna(\"none\")"
   ]
  },
  {
   "cell_type": "code",
   "execution_count": 111,
   "metadata": {},
   "outputs": [],
   "source": [
    "merged.to_pickle(\n",
    "    f\"/gpfs/milgram/project/rtaylor/shared/ABDPain_EarlyDiags/unq_pt_enc_clean_multilabel_nomismatches_CTUS.pkl\"\n",
    ")"
   ]
  },
  {
   "cell_type": "code",
   "execution_count": null,
   "metadata": {},
   "outputs": [],
   "source": []
  },
  {
   "cell_type": "code",
   "execution_count": null,
   "metadata": {},
   "outputs": [],
   "source": []
  },
  {
   "cell_type": "code",
   "execution_count": null,
   "metadata": {},
   "outputs": [],
   "source": []
  }
 ],
 "metadata": {
  "kernelspec": {
   "display_name": "Python 3",
   "language": "python",
   "name": "python3"
  },
  "language_info": {
   "codemirror_mode": {
    "name": "ipython",
    "version": 3
   },
   "file_extension": ".py",
   "mimetype": "text/x-python",
   "name": "python",
   "nbconvert_exporter": "python",
   "pygments_lexer": "ipython3",
   "version": "3.7.9"
  }
 },
 "nbformat": 4,
 "nbformat_minor": 4
}
